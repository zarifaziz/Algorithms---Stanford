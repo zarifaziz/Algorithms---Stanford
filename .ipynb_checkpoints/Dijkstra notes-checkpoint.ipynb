{
 "cells": [
  {
   "cell_type": "markdown",
   "metadata": {},
   "source": [
    "### Implementation using Networkx"
   ]
  },
  {
   "cell_type": "code",
   "execution_count": 2,
   "metadata": {},
   "outputs": [],
   "source": [
    "import networkx as nx\n",
    "G = nx.Graph()"
   ]
  },
  {
   "cell_type": "code",
   "execution_count": 6,
   "metadata": {},
   "outputs": [
    {
     "data": {
      "text/plain": [
       "NodeDataView({80: {'length': 982}})"
      ]
     },
     "execution_count": 6,
     "metadata": {},
     "output_type": "execute_result"
    }
   ],
   "source": [
    "G.add_node(80,length = 982)\n",
    "G.nodes.data()"
   ]
  },
  {
   "cell_type": "code",
   "execution_count": 8,
   "metadata": {},
   "outputs": [
    {
     "data": {
      "text/plain": [
       "982"
      ]
     },
     "execution_count": 8,
     "metadata": {},
     "output_type": "execute_result"
    }
   ],
   "source": [
    "G.nodes[80]['length']"
   ]
  },
  {
   "cell_type": "markdown",
   "metadata": {},
   "source": [
    "## Implementation of a Graph as an Adjacency List"
   ]
  },
  {
   "cell_type": "code",
   "execution_count": 1,
   "metadata": {},
   "outputs": [],
   "source": [
    "# https://www.bogotobogo.com/python/python_graph_data_structures.php\n",
    "\n",
    "class Vertex:\n",
    "    def __init__(self, node):\n",
    "        self.id = node\n",
    "        # this is the dictionary that is used as an adjacency list\n",
    "        # to keep track of the vertices to which the vertex is connected\n",
    "        # and the weight of each edge\n",
    "        self.adjacent = {} # key = nbr, val = weight\n",
    "\n",
    "    def __str__(self):\n",
    "        return str(self.id) + ' adjacent: ' + str([x.id for x in self.adjacent])\n",
    "\n",
    "    def add_neighbor(self, neighbor, weight=0):\n",
    "        self.adjacent[neighbor] = weight\n",
    "\n",
    "    def get_connections(self):\n",
    "        return self.adjacent.keys()  \n",
    "\n",
    "    def get_id(self):\n",
    "        return self.id\n",
    "\n",
    "    def get_weight(self, neighbor):\n",
    "        return self.adjacent[neighbor]\n",
    "    \n",
    "class Graph(object):\n",
    "    def __init__(self):\n",
    "        # The graph also contains a dictionary that maps vertex names to\n",
    "        # vertex objects\n",
    "        self.vert_dict = {}\n",
    "        self.num_vertices = 0\n",
    "        \n",
    "    def __iter__(self):\n",
    "        return iter(self.vert_dict.values())\n",
    "    \n",
    "    def add_vertex(self,node):\n",
    "        # increasing the count of vertices\n",
    "        self.num_vertices = self.num_vertices + 1\n",
    "        new_vertex = Vertex(node)\n",
    "        self.vert_dict[node] = new_vertex\n",
    "        return new_vertex\n",
    "        \n",
    "    def get_vertex(self,n):\n",
    "        if n in self.vert_dict:\n",
    "            return self.vert_dict[n]\n",
    "        else:\n",
    "            return None\n",
    "        \n",
    "    def add_edge(self, frm, to, cost = 0):\n",
    "        if frm not in self.vert_dict:\n",
    "            self.add_vertex(frm)\n",
    "        if to not in self.vert_dict:\n",
    "            self.add_vertex(to)\n",
    "            \n",
    "        # This is the part that makes it an undirected graph !\n",
    "        # Only keeping the first line would make it directed\n",
    "        self.vert_dict[frm].add_neighbor(self.vert_dict[to], cost)\n",
    "        self.vert_dict[to].add_neighbor(self.vert_dict[frm], cost)\n",
    "        \n",
    "    def get_vertices(self):\n",
    "        return self.vert_dict.keys()\n",
    "    "
   ]
  },
  {
   "cell_type": "code",
   "execution_count": 89,
   "metadata": {},
   "outputs": [],
   "source": [
    "g = Graph()"
   ]
  },
  {
   "cell_type": "code",
   "execution_count": 3,
   "metadata": {},
   "outputs": [
    {
     "data": {
      "text/plain": [
       "dict_keys([])"
      ]
     },
     "execution_count": 3,
     "metadata": {},
     "output_type": "execute_result"
    }
   ],
   "source": [
    "g.get_vertices()"
   ]
  },
  {
   "cell_type": "code",
   "execution_count": 90,
   "metadata": {},
   "outputs": [],
   "source": [
    "with open('dijkstraData.txt') as fp:\n",
    "    for line in fp:\n",
    "        output = line.split()\n",
    "        node = int(output[0])\n",
    "        \n",
    "        for data in output[1:]:\n",
    "            bunch =  data.split(',')\n",
    "            # print('Adding edge from %d to %d with weight %d' % (node,int(bunch[0]),int(bunch[1])))\n",
    "            g.add_edge(node,int(bunch[0]),int(bunch[1]))\n",
    "        \n",
    "        "
   ]
  },
  {
   "cell_type": "code",
   "execution_count": 56,
   "metadata": {},
   "outputs": [
    {
     "name": "stdout",
     "output_type": "stream",
     "text": [
      "114\n"
     ]
    }
   ],
   "source": [
    "shortest_path_distance = {1:0}\n",
    "\n",
    "closest_length = float(\"inf\")\n",
    "closest_vertex = None\n",
    "\n",
    "# Dijkstra's Greedy Criterion\n",
    "for vertex in g.get_vertex(1).adjacent:\n",
    "    #g.get_vertex(1).adjacent[vertex]\n",
    "    length_list.append(g.get_vertex(1).adjacent[vertex])\n",
    "    length = g.get_vertex(1).adjacent[vertex]\n",
    "    if (shortest_path_distance[1] + length) < closest_length:\n",
    "        closest_length = length\n",
    "        closest_vertex = vertex.id\n",
    "    \n",
    "print(closest_vertex)\n",
    "# Adding the new vertex to seen\n",
    "seen.append[closest_vertex]\n",
    "shortest_path_distance[closest_vertex] = shortest_path_distance[1] + length\n",
    "shortest_path[closest_vertex] = shortest_path[1].append(closest_vertex)"
   ]
  },
  {
   "cell_type": "code",
   "execution_count": 52,
   "metadata": {},
   "outputs": [
    {
     "data": {
      "text/plain": [
       "dict_keys([<__main__.Vertex object at 0x000001B78361C470>, <__main__.Vertex object at 0x000001B78361CCF8>, <__main__.Vertex object at 0x000001B78361C390>, <__main__.Vertex object at 0x000001B78361CD30>, <__main__.Vertex object at 0x000001B78361C3C8>, <__main__.Vertex object at 0x000001B78361C400>, <__main__.Vertex object at 0x000001B78361C438>, <__main__.Vertex object at 0x000001B78361CF28>, <__main__.Vertex object at 0x000001B78361CFD0>, <__main__.Vertex object at 0x000001B78361CF60>, <__main__.Vertex object at 0x000001B78361CF98>, <__main__.Vertex object at 0x000001B783610048>, <__main__.Vertex object at 0x000001B783610080>, <__main__.Vertex object at 0x000001B7836100B8>, <__main__.Vertex object at 0x000001B7836100F0>, <__main__.Vertex object at 0x000001B7836102B0>, <__main__.Vertex object at 0x000001B783610358>, <__main__.Vertex object at 0x000001B783610198>, <__main__.Vertex object at 0x000001B783610128>, <__main__.Vertex object at 0x000001B783610208>, <__main__.Vertex object at 0x000001B7836102E8>, <__main__.Vertex object at 0x000001B783610320>, <__main__.Vertex object at 0x000001B783610390>, <__main__.Vertex object at 0x000001B7836103C8>, <__main__.Vertex object at 0x000001B783610400>, <__main__.Vertex object at 0x000001B783610438>, <__main__.Vertex object at 0x000001B783610470>])"
      ]
     },
     "execution_count": 52,
     "metadata": {},
     "output_type": "execute_result"
    }
   ],
   "source": [
    "g.vert_dict[1].get_connections()"
   ]
  },
  {
   "cell_type": "code",
   "execution_count": 49,
   "metadata": {},
   "outputs": [
    {
     "name": "stdout",
     "output_type": "stream",
     "text": [
      "Helllooo\n"
     ]
    },
    {
     "data": {
      "text/plain": [
       "{<__main__.Vertex at 0x1b78361c470>: 982,\n",
       " <__main__.Vertex at 0x1b78361ccf8>: 8164,\n",
       " <__main__.Vertex at 0x1b78361c390>: 2620,\n",
       " <__main__.Vertex at 0x1b78361cd30>: 648,\n",
       " <__main__.Vertex at 0x1b78361c3c8>: 8021,\n",
       " <__main__.Vertex at 0x1b78361c400>: 2069,\n",
       " <__main__.Vertex at 0x1b78361c438>: 647,\n",
       " <__main__.Vertex at 0x1b78361cf28>: 4122,\n",
       " <__main__.Vertex at 0x1b78361cfd0>: 546,\n",
       " <__main__.Vertex at 0x1b78361cf60>: 1913,\n",
       " <__main__.Vertex at 0x1b78361cf98>: 6461,\n",
       " <__main__.Vertex at 0x1b783610048>: 7905,\n",
       " <__main__.Vertex at 0x1b783610080>: 9047,\n",
       " <__main__.Vertex at 0x1b7836100b8>: 2183,\n",
       " <__main__.Vertex at 0x1b7836100f0>: 9146,\n",
       " <__main__.Vertex at 0x1b7836102b0>: 7420,\n",
       " <__main__.Vertex at 0x1b783610358>: 1724,\n",
       " <__main__.Vertex at 0x1b783610198>: 508,\n",
       " <__main__.Vertex at 0x1b783610128>: 6647,\n",
       " <__main__.Vertex at 0x1b783610208>: 4612,\n",
       " <__main__.Vertex at 0x1b7836102e8>: 2367,\n",
       " <__main__.Vertex at 0x1b783610320>: 7896,\n",
       " <__main__.Vertex at 0x1b783610390>: 8700,\n",
       " <__main__.Vertex at 0x1b7836103c8>: 2437,\n",
       " <__main__.Vertex at 0x1b783610400>: 2909,\n",
       " <__main__.Vertex at 0x1b783610438>: 2597,\n",
       " <__main__.Vertex at 0x1b783610470>: 6399}"
      ]
     },
     "execution_count": 49,
     "metadata": {},
     "output_type": "execute_result"
    }
   ],
   "source": [
    "\n",
    "print('Helllooo')\n",
    "g.get_vertex(1).adjacent"
   ]
  },
  {
   "cell_type": "code",
   "execution_count": 7,
   "metadata": {},
   "outputs": [
    {
     "data": {
      "text/plain": [
       "200"
      ]
     },
     "execution_count": 7,
     "metadata": {},
     "output_type": "execute_result"
    }
   ],
   "source": [
    "g.num_vertices"
   ]
  },
  {
   "cell_type": "code",
   "execution_count": 8,
   "metadata": {},
   "outputs": [
    {
     "data": {
      "text/plain": [
       "200"
      ]
     },
     "execution_count": 8,
     "metadata": {},
     "output_type": "execute_result"
    }
   ],
   "source": [
    "len(g.vert_dict)"
   ]
  },
  {
   "cell_type": "code",
   "execution_count": 9,
   "metadata": {},
   "outputs": [
    {
     "data": {
      "text/plain": [
       "<__main__.Vertex at 0x1b78361c358>"
      ]
     },
     "execution_count": 9,
     "metadata": {},
     "output_type": "execute_result"
    }
   ],
   "source": [
    "g.vert_dict[1]"
   ]
  },
  {
   "cell_type": "code",
   "execution_count": 132,
   "metadata": {},
   "outputs": [],
   "source": [
    "\"\"\"\n",
    "I'm not accounting for deadends\n",
    "\"\"\"\n",
    "\n",
    "def dijkstra(graph):\n",
    "    # Initialising\n",
    "    seen = [1]\n",
    "    shortest_path_distance = {1: 0}\n",
    "    shortest_path = {1: []}\n",
    "    \n",
    "    # Keep going until all of the vertices have been explored\n",
    "    while len(seen) != 199:\n",
    "        closest_length = float(\"inf\")\n",
    "        closest_vertex = None\n",
    "\n",
    "        # Dijkstra's Greedy Criterion\n",
    "        for vertex in graph.get_vertex(seen[-1]).adjacent:\n",
    "            if vertex.id not in seen:\n",
    "                #g.get_vertex(1).adjacent[vertex]\n",
    "                length_list.append(graph.get_vertex(seen[-1]).adjacent[vertex])\n",
    "\n",
    "                length = graph.get_vertex(seen[-1]).adjacent[vertex]\n",
    "                if (shortest_path_distance[seen[-1]] + length) < closest_length:\n",
    "                    closest_length = length \n",
    "                    closest_vertex = vertex.id\n",
    "\n",
    "        #print(closest_vertex)\n",
    "        \n",
    "        key = seen[-1]\n",
    "        if closest_vertex is not None:\n",
    "            shortest_path_distance[closest_vertex] = shortest_path_distance[key] + length\n",
    "            shortest_path[closest_vertex] = shortest_path[key] + [closest_vertex]\n",
    "            seen.append(closest_vertex)\n",
    "        #print(seen)\n",
    "        \n",
    "#     print(shortest_path_distance[7])\n",
    "#     print(shortest_path_distance[37])\n",
    "#     print(shortest_path_distance[59])\n",
    "#     print(shortest_path_distance[82])\n",
    "#     print(shortest_path_distance[99])\n",
    "#     print(shortest_path_distance[115])\n",
    "#     print(shortest_path_distance[133])\n",
    "#     print(shortest_path_distance[165])\n",
    "#     print(shortest_path_distance[188])\n",
    "#     print(shortest_path_distance[197])\n",
    "    print(seen)"
   ]
  },
  {
   "cell_type": "code",
   "execution_count": 83,
   "metadata": {},
   "outputs": [
    {
     "data": {
      "text/plain": [
       "{1: [114]}"
      ]
     },
     "execution_count": 83,
     "metadata": {},
     "output_type": "execute_result"
    }
   ],
   "source": [
    "blaah = [1]\n",
    "blaah[-1]\n",
    "shortest_path_distance = {1: 0}\n",
    "shortest_path_distance[1]\n",
    "shortest_path_distance[114] = shortest_path_distance[1] + 3\n",
    "shortest_path_distance\n",
    "yo = []\n",
    "yo.append(3)\n",
    "yo\n",
    "\n",
    "shortest_path = {1: []}\n",
    "shortest_path[1].append(114)\n",
    "shortest_path"
   ]
  },
  {
   "cell_type": "code",
   "execution_count": 13,
   "metadata": {},
   "outputs": [
    {
     "ename": "AttributeError",
     "evalue": "'Graph' object has no attribute 'get_connections'",
     "output_type": "error",
     "traceback": [
      "\u001b[1;31m---------------------------------------------------------------------------\u001b[0m",
      "\u001b[1;31mAttributeError\u001b[0m                            Traceback (most recent call last)",
      "\u001b[1;32m<ipython-input-13-a31e9fd22a38>\u001b[0m in \u001b[0;36m<module>\u001b[1;34m()\u001b[0m\n\u001b[1;32m----> 1\u001b[1;33m \u001b[0mg\u001b[0m\u001b[1;33m.\u001b[0m\u001b[0mget_connections\u001b[0m\u001b[1;33m(\u001b[0m\u001b[1;36m1\u001b[0m\u001b[1;33m)\u001b[0m\u001b[1;33m\u001b[0m\u001b[0m\n\u001b[0m",
      "\u001b[1;31mAttributeError\u001b[0m: 'Graph' object has no attribute 'get_connections'"
     ]
    }
   ],
   "source": [
    "g.get_connections(1)"
   ]
  },
  {
   "cell_type": "code",
   "execution_count": 133,
   "metadata": {},
   "outputs": [
    {
     "ename": "AttributeError",
     "evalue": "'NoneType' object has no attribute 'adjacent'",
     "output_type": "error",
     "traceback": [
      "\u001b[1;31m---------------------------------------------------------------------------\u001b[0m",
      "\u001b[1;31mAttributeError\u001b[0m                            Traceback (most recent call last)",
      "\u001b[1;32m<ipython-input-133-38e3ad77d6b9>\u001b[0m in \u001b[0;36m<module>\u001b[1;34m()\u001b[0m\n\u001b[1;32m----> 1\u001b[1;33m \u001b[0mdijkstra\u001b[0m\u001b[1;33m(\u001b[0m\u001b[0mg\u001b[0m\u001b[1;33m)\u001b[0m\u001b[1;33m\u001b[0m\u001b[0m\n\u001b[0m",
      "\u001b[1;32m<ipython-input-132-0ed2979802ac>\u001b[0m in \u001b[0;36mdijkstra\u001b[1;34m(graph)\u001b[0m\n\u001b[0;32m     11\u001b[0m \u001b[1;33m\u001b[0m\u001b[0m\n\u001b[0;32m     12\u001b[0m         \u001b[1;31m# Dijkstra's Greedy Criterion\u001b[0m\u001b[1;33m\u001b[0m\u001b[1;33m\u001b[0m\u001b[0m\n\u001b[1;32m---> 13\u001b[1;33m         \u001b[1;32mfor\u001b[0m \u001b[0mvertex\u001b[0m \u001b[1;32min\u001b[0m \u001b[0mgraph\u001b[0m\u001b[1;33m.\u001b[0m\u001b[0mget_vertex\u001b[0m\u001b[1;33m(\u001b[0m\u001b[0mseen\u001b[0m\u001b[1;33m[\u001b[0m\u001b[1;33m-\u001b[0m\u001b[1;36m1\u001b[0m\u001b[1;33m]\u001b[0m\u001b[1;33m)\u001b[0m\u001b[1;33m.\u001b[0m\u001b[0madjacent\u001b[0m\u001b[1;33m:\u001b[0m\u001b[1;33m\u001b[0m\u001b[0m\n\u001b[0m\u001b[0;32m     14\u001b[0m             \u001b[1;32mif\u001b[0m \u001b[0mvertex\u001b[0m\u001b[1;33m.\u001b[0m\u001b[0mid\u001b[0m \u001b[1;32mnot\u001b[0m \u001b[1;32min\u001b[0m \u001b[0mseen\u001b[0m\u001b[1;33m:\u001b[0m\u001b[1;33m\u001b[0m\u001b[0m\n\u001b[0;32m     15\u001b[0m                 \u001b[1;31m#g.get_vertex(1).adjacent[vertex]\u001b[0m\u001b[1;33m\u001b[0m\u001b[1;33m\u001b[0m\u001b[0m\n",
      "\u001b[1;31mAttributeError\u001b[0m: 'NoneType' object has no attribute 'adjacent'"
     ]
    }
   ],
   "source": [
    "dijkstra(g)"
   ]
  },
  {
   "cell_type": "code",
   "execution_count": 105,
   "metadata": {},
   "outputs": [
    {
     "data": {
      "text/plain": [
       "<__main__.Vertex at 0x1b783731a20>"
      ]
     },
     "execution_count": 105,
     "metadata": {},
     "output_type": "execute_result"
    }
   ],
   "source": [
    "g.get_vertex(82)"
   ]
  },
  {
   "cell_type": "code",
   "execution_count": null,
   "metadata": {},
   "outputs": [],
   "source": []
  }
 ],
 "metadata": {
  "kernelspec": {
   "display_name": "Python 3",
   "language": "python",
   "name": "python3"
  },
  "language_info": {
   "codemirror_mode": {
    "name": "ipython",
    "version": 3
   },
   "file_extension": ".py",
   "mimetype": "text/x-python",
   "name": "python",
   "nbconvert_exporter": "python",
   "pygments_lexer": "ipython3",
   "version": "3.6.5"
  }
 },
 "nbformat": 4,
 "nbformat_minor": 2
}
