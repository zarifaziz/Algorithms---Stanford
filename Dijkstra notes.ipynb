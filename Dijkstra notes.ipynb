{
 "cells": [
  {
   "cell_type": "markdown",
   "metadata": {},
   "source": [
    "### Implementation using Networkx"
   ]
  },
  {
   "cell_type": "code",
   "execution_count": 2,
   "metadata": {},
   "outputs": [],
   "source": [
    "import networkx as nx\n",
    "G = nx.Graph()"
   ]
  },
  {
   "cell_type": "code",
   "execution_count": 6,
   "metadata": {},
   "outputs": [
    {
     "data": {
      "text/plain": [
       "NodeDataView({80: {'length': 982}})"
      ]
     },
     "execution_count": 6,
     "metadata": {},
     "output_type": "execute_result"
    }
   ],
   "source": [
    "G.add_node(80,length = 982)\n",
    "G.nodes.data()"
   ]
  },
  {
   "cell_type": "code",
   "execution_count": 8,
   "metadata": {},
   "outputs": [
    {
     "data": {
      "text/plain": [
       "982"
      ]
     },
     "execution_count": 8,
     "metadata": {},
     "output_type": "execute_result"
    }
   ],
   "source": [
    "G.nodes[80]['length']"
   ]
  },
  {
   "cell_type": "markdown",
   "metadata": {},
   "source": [
    "## Implementation of a Graph as an Adjacency List"
   ]
  },
  {
   "cell_type": "code",
   "execution_count": 1,
   "metadata": {},
   "outputs": [],
   "source": [
    "# https://www.bogotobogo.com/python/python_graph_data_structures.php\n",
    "\n",
    "class Vertex:\n",
    "    def __init__(self, node):\n",
    "        self.id = node\n",
    "        # this is the dictionary that is used as an adjacency list\n",
    "        # to keep track of the vertices to which the vertex is connected\n",
    "        # and the weight of each edge\n",
    "        self.adjacent = {} # key = nbr, val = weight\n",
    "\n",
    "    def __str__(self):\n",
    "        return str(self.id) + ' adjacent: ' + str([x.id for x in self.adjacent])\n",
    "\n",
    "    def add_neighbor(self, neighbor, weight=0):\n",
    "        self.adjacent[neighbor] = weight\n",
    "\n",
    "    def get_connections(self):\n",
    "        return self.adjacent.keys()  \n",
    "\n",
    "    def get_id(self):\n",
    "        return self.id\n",
    "\n",
    "    def get_weight(self, neighbor):\n",
    "        return self.adjacent[neighbor]\n",
    "    \n",
    "class Graph(object):\n",
    "    def __init__(self):\n",
    "        # The graph also contains a dictionary that maps vertex names to\n",
    "        # vertex objects\n",
    "        self.vert_dict = {}\n",
    "        self.num_vertices = 0\n",
    "        \n",
    "    def __iter__(self):\n",
    "        return iter(self.vert_dict.values())\n",
    "    \n",
    "    def add_vertex(self,node):\n",
    "        # increasing the count of vertices\n",
    "        self.num_vertices = self.num_vertices + 1\n",
    "        new_vertex = Vertex(node)\n",
    "        self.vert_dict[node] = new_vertex\n",
    "        return new_vertex\n",
    "        \n",
    "    def get_vertex(self,n):\n",
    "        if n in self.vert_dict:\n",
    "            return self.vert_dict[n]\n",
    "        else:\n",
    "            return None\n",
    "        \n",
    "    def add_edge(self, frm, to, cost = 0):\n",
    "        if frm not in self.vert_dict:\n",
    "            self.add_vertex(frm)\n",
    "        if to not in self.vert_dict:\n",
    "            self.add_vertex(to)\n",
    "            \n",
    "        # This is the part that makes it an undirected graph !\n",
    "        # Only keeping the first line would make it directed\n",
    "        self.vert_dict[frm].add_neighbor(self.vert_dict[to], cost)\n",
    "        self.vert_dict[to].add_neighbor(self.vert_dict[frm], cost)\n",
    "        \n",
    "    def get_vertices(self):\n",
    "        return self.vert_dict.keys()\n",
    "    "
   ]
  },
  {
   "cell_type": "code",
   "execution_count": 89,
   "metadata": {},
   "outputs": [],
   "source": [
    "g = Graph()"
   ]
  },
  {
   "cell_type": "code",
   "execution_count": 3,
   "metadata": {},
   "outputs": [
    {
     "data": {
      "text/plain": [
       "dict_keys([])"
      ]
     },
     "execution_count": 3,
     "metadata": {},
     "output_type": "execute_result"
    }
   ],
   "source": [
    "g.get_vertices()"
   ]
  },
  {
   "cell_type": "code",
   "execution_count": 146,
   "metadata": {},
   "outputs": [
    {
     "data": {
      "text/plain": [
       "[2,\n",
       " 3,\n",
       " 4,\n",
       " 5,\n",
       " 6,\n",
       " 7,\n",
       " 8,\n",
       " 9,\n",
       " 10,\n",
       " 11,\n",
       " 12,\n",
       " 13,\n",
       " 14,\n",
       " 15,\n",
       " 16,\n",
       " 17,\n",
       " 18,\n",
       " 19,\n",
       " 20,\n",
       " 21,\n",
       " 22,\n",
       " 23,\n",
       " 24,\n",
       " 25,\n",
       " 26,\n",
       " 27,\n",
       " 28,\n",
       " 29,\n",
       " 30,\n",
       " 31,\n",
       " 32,\n",
       " 33,\n",
       " 34,\n",
       " 35,\n",
       " 36,\n",
       " 37,\n",
       " 38,\n",
       " 39,\n",
       " 40,\n",
       " 41,\n",
       " 42,\n",
       " 43,\n",
       " 44,\n",
       " 45,\n",
       " 46,\n",
       " 47,\n",
       " 48,\n",
       " 49,\n",
       " 50,\n",
       " 51,\n",
       " 52,\n",
       " 53,\n",
       " 54,\n",
       " 55,\n",
       " 56,\n",
       " 57,\n",
       " 58,\n",
       " 59,\n",
       " 60,\n",
       " 61,\n",
       " 62,\n",
       " 63,\n",
       " 64,\n",
       " 65,\n",
       " 66,\n",
       " 67,\n",
       " 68,\n",
       " 69,\n",
       " 70,\n",
       " 71,\n",
       " 72,\n",
       " 73,\n",
       " 74,\n",
       " 75,\n",
       " 76,\n",
       " 77,\n",
       " 78,\n",
       " 79,\n",
       " 80,\n",
       " 81,\n",
       " 82,\n",
       " 83,\n",
       " 84,\n",
       " 85,\n",
       " 86,\n",
       " 87,\n",
       " 88,\n",
       " 89,\n",
       " 90,\n",
       " 91,\n",
       " 92,\n",
       " 93,\n",
       " 94,\n",
       " 95,\n",
       " 96,\n",
       " 97,\n",
       " 98,\n",
       " 99,\n",
       " 100,\n",
       " 101,\n",
       " 102,\n",
       " 103,\n",
       " 104,\n",
       " 105,\n",
       " 106,\n",
       " 107,\n",
       " 108,\n",
       " 109,\n",
       " 110,\n",
       " 111,\n",
       " 112,\n",
       " 113,\n",
       " 114,\n",
       " 115,\n",
       " 116,\n",
       " 117,\n",
       " 118,\n",
       " 119,\n",
       " 120,\n",
       " 121,\n",
       " 122,\n",
       " 123,\n",
       " 124,\n",
       " 125,\n",
       " 126,\n",
       " 127,\n",
       " 128,\n",
       " 129,\n",
       " 130,\n",
       " 131,\n",
       " 132,\n",
       " 133,\n",
       " 134,\n",
       " 135,\n",
       " 136,\n",
       " 137,\n",
       " 138,\n",
       " 139,\n",
       " 140,\n",
       " 141,\n",
       " 142,\n",
       " 143,\n",
       " 144,\n",
       " 145,\n",
       " 146,\n",
       " 147,\n",
       " 148,\n",
       " 149,\n",
       " 150,\n",
       " 151,\n",
       " 152,\n",
       " 153,\n",
       " 154,\n",
       " 155,\n",
       " 156,\n",
       " 157,\n",
       " 158,\n",
       " 159,\n",
       " 160,\n",
       " 161,\n",
       " 162,\n",
       " 163,\n",
       " 164,\n",
       " 165,\n",
       " 166,\n",
       " 167,\n",
       " 168,\n",
       " 169,\n",
       " 170,\n",
       " 171,\n",
       " 172,\n",
       " 173,\n",
       " 174,\n",
       " 175,\n",
       " 176,\n",
       " 177,\n",
       " 178,\n",
       " 179,\n",
       " 180,\n",
       " 181,\n",
       " 182,\n",
       " 183,\n",
       " 184,\n",
       " 185,\n",
       " 186,\n",
       " 187,\n",
       " 188,\n",
       " 189,\n",
       " 190,\n",
       " 191,\n",
       " 192,\n",
       " 193,\n",
       " 194,\n",
       " 195,\n",
       " 196,\n",
       " 197,\n",
       " 198,\n",
       " 199,\n",
       " 200]"
      ]
     },
     "execution_count": 146,
     "metadata": {},
     "output_type": "execute_result"
    }
   ],
   "source": [
    "vertices = []\n",
    "with open('dijkstraData.txt') as fp:\n",
    "    for line in fp:\n",
    "        output = line.split()\n",
    "        node = int(output[0])\n",
    "        \n",
    "        for data in output[1:]:\n",
    "            bunch =  data.split(',')\n",
    "            # print('Adding edge from %d to %d with weight %d' % (node,int(bunch[0]),int(bunch[1])))\n",
    "            g.add_edge(node,int(bunch[0]),int(bunch[1]))\n",
    "        \n",
    "        vertices.append(int(output[0]))       \n",
    "        \n",
    "vertices.remove(1)\n",
    "vertices"
   ]
  },
  {
   "cell_type": "code",
   "execution_count": 56,
   "metadata": {},
   "outputs": [
    {
     "name": "stdout",
     "output_type": "stream",
     "text": [
      "114\n"
     ]
    }
   ],
   "source": [
    "shortest_path_distance = {1:0}\n",
    "\n",
    "closest_length = float(\"inf\")\n",
    "closest_vertex = None\n",
    "\n",
    "# Dijkstra's Greedy Criterion\n",
    "for vertex in g.get_vertex(1).adjacent:\n",
    "    #g.get_vertex(1).adjacent[vertex]\n",
    "    length_list.append(g.get_vertex(1).adjacent[vertex])\n",
    "    length = g.get_vertex(1).adjacent[vertex]\n",
    "    if (shortest_path_distance[1] + length) < closest_length:\n",
    "        closest_length = length\n",
    "        closest_vertex = vertex.id\n",
    "    \n",
    "print(closest_vertex)\n",
    "# Adding the new vertex to seen\n",
    "seen.append[closest_vertex]\n",
    "shortest_path_distance[closest_vertex] = shortest_path_distance[1] + length\n",
    "shortest_path[closest_vertex] = shortest_path[1].append(closest_vertex)"
   ]
  },
  {
   "cell_type": "code",
   "execution_count": 52,
   "metadata": {},
   "outputs": [
    {
     "data": {
      "text/plain": [
       "dict_keys([<__main__.Vertex object at 0x000001B78361C470>, <__main__.Vertex object at 0x000001B78361CCF8>, <__main__.Vertex object at 0x000001B78361C390>, <__main__.Vertex object at 0x000001B78361CD30>, <__main__.Vertex object at 0x000001B78361C3C8>, <__main__.Vertex object at 0x000001B78361C400>, <__main__.Vertex object at 0x000001B78361C438>, <__main__.Vertex object at 0x000001B78361CF28>, <__main__.Vertex object at 0x000001B78361CFD0>, <__main__.Vertex object at 0x000001B78361CF60>, <__main__.Vertex object at 0x000001B78361CF98>, <__main__.Vertex object at 0x000001B783610048>, <__main__.Vertex object at 0x000001B783610080>, <__main__.Vertex object at 0x000001B7836100B8>, <__main__.Vertex object at 0x000001B7836100F0>, <__main__.Vertex object at 0x000001B7836102B0>, <__main__.Vertex object at 0x000001B783610358>, <__main__.Vertex object at 0x000001B783610198>, <__main__.Vertex object at 0x000001B783610128>, <__main__.Vertex object at 0x000001B783610208>, <__main__.Vertex object at 0x000001B7836102E8>, <__main__.Vertex object at 0x000001B783610320>, <__main__.Vertex object at 0x000001B783610390>, <__main__.Vertex object at 0x000001B7836103C8>, <__main__.Vertex object at 0x000001B783610400>, <__main__.Vertex object at 0x000001B783610438>, <__main__.Vertex object at 0x000001B783610470>])"
      ]
     },
     "execution_count": 52,
     "metadata": {},
     "output_type": "execute_result"
    }
   ],
   "source": [
    "g.vert_dict[1].get_connections()"
   ]
  },
  {
   "cell_type": "code",
   "execution_count": 49,
   "metadata": {},
   "outputs": [
    {
     "name": "stdout",
     "output_type": "stream",
     "text": [
      "Helllooo\n"
     ]
    },
    {
     "data": {
      "text/plain": [
       "{<__main__.Vertex at 0x1b78361c470>: 982,\n",
       " <__main__.Vertex at 0x1b78361ccf8>: 8164,\n",
       " <__main__.Vertex at 0x1b78361c390>: 2620,\n",
       " <__main__.Vertex at 0x1b78361cd30>: 648,\n",
       " <__main__.Vertex at 0x1b78361c3c8>: 8021,\n",
       " <__main__.Vertex at 0x1b78361c400>: 2069,\n",
       " <__main__.Vertex at 0x1b78361c438>: 647,\n",
       " <__main__.Vertex at 0x1b78361cf28>: 4122,\n",
       " <__main__.Vertex at 0x1b78361cfd0>: 546,\n",
       " <__main__.Vertex at 0x1b78361cf60>: 1913,\n",
       " <__main__.Vertex at 0x1b78361cf98>: 6461,\n",
       " <__main__.Vertex at 0x1b783610048>: 7905,\n",
       " <__main__.Vertex at 0x1b783610080>: 9047,\n",
       " <__main__.Vertex at 0x1b7836100b8>: 2183,\n",
       " <__main__.Vertex at 0x1b7836100f0>: 9146,\n",
       " <__main__.Vertex at 0x1b7836102b0>: 7420,\n",
       " <__main__.Vertex at 0x1b783610358>: 1724,\n",
       " <__main__.Vertex at 0x1b783610198>: 508,\n",
       " <__main__.Vertex at 0x1b783610128>: 6647,\n",
       " <__main__.Vertex at 0x1b783610208>: 4612,\n",
       " <__main__.Vertex at 0x1b7836102e8>: 2367,\n",
       " <__main__.Vertex at 0x1b783610320>: 7896,\n",
       " <__main__.Vertex at 0x1b783610390>: 8700,\n",
       " <__main__.Vertex at 0x1b7836103c8>: 2437,\n",
       " <__main__.Vertex at 0x1b783610400>: 2909,\n",
       " <__main__.Vertex at 0x1b783610438>: 2597,\n",
       " <__main__.Vertex at 0x1b783610470>: 6399}"
      ]
     },
     "execution_count": 49,
     "metadata": {},
     "output_type": "execute_result"
    }
   ],
   "source": [
    "\n",
    "print('Helllooo')\n",
    "g.get_vertex(1).adjacent"
   ]
  },
  {
   "cell_type": "code",
   "execution_count": 7,
   "metadata": {},
   "outputs": [
    {
     "data": {
      "text/plain": [
       "200"
      ]
     },
     "execution_count": 7,
     "metadata": {},
     "output_type": "execute_result"
    }
   ],
   "source": [
    "g.num_vertices"
   ]
  },
  {
   "cell_type": "code",
   "execution_count": 8,
   "metadata": {},
   "outputs": [
    {
     "data": {
      "text/plain": [
       "200"
      ]
     },
     "execution_count": 8,
     "metadata": {},
     "output_type": "execute_result"
    }
   ],
   "source": [
    "len(g.vert_dict)"
   ]
  },
  {
   "cell_type": "code",
   "execution_count": 9,
   "metadata": {},
   "outputs": [
    {
     "data": {
      "text/plain": [
       "<__main__.Vertex at 0x1b78361c358>"
      ]
     },
     "execution_count": 9,
     "metadata": {},
     "output_type": "execute_result"
    }
   ],
   "source": [
    "g.vert_dict[1]"
   ]
  },
  {
   "cell_type": "code",
   "execution_count": 147,
   "metadata": {},
   "outputs": [],
   "source": [
    "\"\"\"\n",
    "I'm not accounting for deadends\n",
    "\"\"\"\n",
    "\n",
    "def dijkstra(graph, vertices):\n",
    "    # Initialising\n",
    "    seen = [1]\n",
    "    shortest_path_distance = {1: 0}\n",
    "    shortest_path = {1: []}\n",
    "    \n",
    "    # Keep going until all of the vertices have been explored\n",
    "    while vertices:\n",
    "        closest_length = float(\"inf\")\n",
    "        closest_vertex = None\n",
    "\n",
    "        # Dijkstra's Greedy Criterion\n",
    "        for vertex in graph.get_vertex(seen[-1]).adjacent:\n",
    "            if vertex.id not in seen:\n",
    "                #g.get_vertex(1).adjacent[vertex]\n",
    "                length_list.append(graph.get_vertex(seen[-1]).adjacent[vertex])\n",
    "\n",
    "                length = graph.get_vertex(seen[-1]).adjacent[vertex]\n",
    "                if (shortest_path_distance[seen[-1]] + length) < closest_length:\n",
    "                    closest_length = length \n",
    "                    closest_vertex = vertex.id\n",
    "\n",
    "        #print(closest_vertex)\n",
    "        \n",
    "        key = seen[-1]\n",
    "        if closest_vertex is not None:\n",
    "            shortest_path_distance[closest_vertex] = shortest_path_distance[key] + length\n",
    "            shortest_path[closest_vertex] = shortest_path[key] + [closest_vertex]\n",
    "            seen.append(closest_vertex)\n",
    "            vertices.remove(closest_vertex)\n",
    "        #print(seen)\n",
    "        \n",
    "#     print(shortest_path_distance[7])\n",
    "#     print(shortest_path_distance[37])\n",
    "#     print(shortest_path_distance[59])\n",
    "#     print(shortest_path_distance[82])\n",
    "#     print(shortest_path_distance[99])\n",
    "#     print(shortest_path_distance[115])\n",
    "#     print(shortest_path_distance[133])\n",
    "#     print(shortest_path_distance[165])\n",
    "#     print(shortest_path_distance[188])\n",
    "#     print(shortest_path_distance[197])\n",
    "    print(seen)"
   ]
  },
  {
   "cell_type": "code",
   "execution_count": 83,
   "metadata": {},
   "outputs": [
    {
     "data": {
      "text/plain": [
       "{1: [114]}"
      ]
     },
     "execution_count": 83,
     "metadata": {},
     "output_type": "execute_result"
    }
   ],
   "source": [
    "blaah = [1]\n",
    "blaah[-1]\n",
    "shortest_path_distance = {1: 0}\n",
    "shortest_path_distance[1]\n",
    "shortest_path_distance[114] = shortest_path_distance[1] + 3\n",
    "shortest_path_distance\n",
    "yo = []\n",
    "yo.append(3)\n",
    "yo\n",
    "\n",
    "shortest_path = {1: []}\n",
    "shortest_path[1].append(114)\n",
    "shortest_path"
   ]
  },
  {
   "cell_type": "code",
   "execution_count": 13,
   "metadata": {},
   "outputs": [
    {
     "ename": "AttributeError",
     "evalue": "'Graph' object has no attribute 'get_connections'",
     "output_type": "error",
     "traceback": [
      "\u001b[1;31m---------------------------------------------------------------------------\u001b[0m",
      "\u001b[1;31mAttributeError\u001b[0m                            Traceback (most recent call last)",
      "\u001b[1;32m<ipython-input-13-a31e9fd22a38>\u001b[0m in \u001b[0;36m<module>\u001b[1;34m()\u001b[0m\n\u001b[1;32m----> 1\u001b[1;33m \u001b[0mg\u001b[0m\u001b[1;33m.\u001b[0m\u001b[0mget_connections\u001b[0m\u001b[1;33m(\u001b[0m\u001b[1;36m1\u001b[0m\u001b[1;33m)\u001b[0m\u001b[1;33m\u001b[0m\u001b[0m\n\u001b[0m",
      "\u001b[1;31mAttributeError\u001b[0m: 'Graph' object has no attribute 'get_connections'"
     ]
    }
   ],
   "source": [
    "g.get_connections(1)"
   ]
  },
  {
   "cell_type": "code",
   "execution_count": null,
   "metadata": {},
   "outputs": [],
   "source": [
    "dijkstra(g, vertices)"
   ]
  },
  {
   "cell_type": "code",
   "execution_count": 105,
   "metadata": {},
   "outputs": [
    {
     "data": {
      "text/plain": [
       "<__main__.Vertex at 0x1b783731a20>"
      ]
     },
     "execution_count": 105,
     "metadata": {},
     "output_type": "execute_result"
    }
   ],
   "source": [
    "g.get_vertex(82)"
   ]
  },
  {
   "cell_type": "code",
   "execution_count": 135,
   "metadata": {},
   "outputs": [
    {
     "data": {
      "text/plain": [
       "27"
      ]
     },
     "execution_count": 135,
     "metadata": {},
     "output_type": "execute_result"
    }
   ],
   "source": [
    "len(g.get_vertex(1).adjacent)"
   ]
  },
  {
   "cell_type": "code",
   "execution_count": null,
   "metadata": {},
   "outputs": [],
   "source": []
  }
 ],
 "metadata": {
  "kernelspec": {
   "display_name": "Python 3",
   "language": "python",
   "name": "python3"
  },
  "language_info": {
   "codemirror_mode": {
    "name": "ipython",
    "version": 3
   },
   "file_extension": ".py",
   "mimetype": "text/x-python",
   "name": "python",
   "nbconvert_exporter": "python",
   "pygments_lexer": "ipython3",
   "version": "3.6.5"
  }
 },
 "nbformat": 4,
 "nbformat_minor": 2
}
