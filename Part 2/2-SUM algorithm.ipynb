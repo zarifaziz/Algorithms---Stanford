{
 "cells": [
  {
   "cell_type": "code",
   "execution_count": 1,
   "metadata": {},
   "outputs": [
    {
     "name": "stdout",
     "output_type": "stream",
     "text": [
      "427\n"
     ]
    }
   ],
   "source": [
    "from bisect import bisect_left, bisect_right\n",
    "\n",
    "\n",
    "class TwoSumFinder:\n",
    "    def __init__(self, input_file=None):\n",
    "        self._array = []\n",
    "        numbers = set()\n",
    "        self._target_values = 0\n",
    "        if input_file is None:\n",
    "            for number in input().split():\n",
    "                numbers.add(int(number))\n",
    "        else:\n",
    "            with open(input_file) as file:\n",
    "                for number in file.read().splitlines():\n",
    "                    numbers.add(int(number))\n",
    "        self._array = sorted(numbers)\n",
    "\n",
    "    def compute_values(self):\n",
    "        target_values = set()\n",
    "        for num in self._array:\n",
    "            low = bisect_left(self._array, -10000 - num)\n",
    "            high = bisect_right(self._array, 10000 - num)\n",
    "            for pair_num in self._array[low:high]:\n",
    "                if pair_num != num:\n",
    "                    target_values.add(num + pair_num)\n",
    "        return len(target_values)\n",
    "\n",
    "if __name__ == \"__main__\":\n",
    "    two_sum_finder = TwoSumFinder(\"algo1-programming_prob-2sum.txt\")\n",
    "    target_values = two_sum_finder.compute_values()\n",
    "    print(target_values)"
   ]
  },
  {
   "cell_type": "code",
   "execution_count": null,
   "metadata": {},
   "outputs": [],
   "source": []
  }
 ],
 "metadata": {
  "kernelspec": {
   "display_name": "Python 3",
   "language": "python",
   "name": "python3"
  },
  "language_info": {
   "codemirror_mode": {
    "name": "ipython",
    "version": 3
   },
   "file_extension": ".py",
   "mimetype": "text/x-python",
   "name": "python",
   "nbconvert_exporter": "python",
   "pygments_lexer": "ipython3",
   "version": "3.6.5"
  }
 },
 "nbformat": 4,
 "nbformat_minor": 2
}
