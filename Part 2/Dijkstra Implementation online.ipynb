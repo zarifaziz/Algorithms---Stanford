{
 "cells": [
  {
   "cell_type": "code",
   "execution_count": 23,
   "metadata": {},
   "outputs": [
    {
     "name": "stdout",
     "output_type": "stream",
     "text": [
      "26\n"
     ]
    }
   ],
   "source": [
    "from collections import deque, namedtuple\n",
    "\n",
    "\n",
    "# we'll use infinity as a default distance to nodes.\n",
    "inf = float('inf')\n",
    "Edge = namedtuple('Edge', 'start, end, cost')\n",
    "\n",
    "\n",
    "def make_edge(start, end, cost=1):\n",
    "  return Edge(start, end, cost)\n",
    "\n",
    "\n",
    "class Graph:\n",
    "    def __init__(self, edges):\n",
    "        # let's check that the data is right\n",
    "        wrong_edges = [i for i in edges if len(i) not in [2, 3]]\n",
    "        if wrong_edges:\n",
    "            raise ValueError('Wrong edges data: {}'.format(wrong_edges))\n",
    "\n",
    "        self.edges = [make_edge(*edge) for edge in edges]\n",
    "\n",
    "    @property\n",
    "    def vertices(self):\n",
    "        return set(\n",
    "            sum(\n",
    "                ([edge.start, edge.end] for edge in self.edges), []\n",
    "            )\n",
    "        )\n",
    "\n",
    "    def get_node_pairs(self, n1, n2, both_ends=True):\n",
    "        if both_ends:\n",
    "            node_pairs = [[n1, n2], [n2, n1]]\n",
    "        else:\n",
    "            node_pairs = [[n1, n2]]\n",
    "        return node_pairs\n",
    "\n",
    "    def remove_edge(self, n1, n2, both_ends=True):\n",
    "        node_pairs = self.get_node_pairs(n1, n2, both_ends)\n",
    "        edges = self.edges[:]\n",
    "        for edge in edges:\n",
    "            if [edge.start, edge.end] in node_pairs:\n",
    "                self.edges.remove(edge)\n",
    "\n",
    "    def add_edge(self, n1, n2, cost=1, both_ends=True):\n",
    "        node_pairs = self.get_node_pairs(n1, n2, both_ends)\n",
    "        for edge in self.edges:\n",
    "            if [edge.start, edge.end] in node_pairs:\n",
    "                return ValueError('Edge {} {} already exists'.format(n1, n2))\n",
    "\n",
    "        self.edges.append(Edge(start=n1, end=n2, cost=cost))\n",
    "        if both_ends:\n",
    "            self.edges.append(Edge(start=n2, end=n1, cost=cost))\n",
    "\n",
    "    @property\n",
    "    def neighbours(self):\n",
    "        neighbours = {vertex: set() for vertex in self.vertices}\n",
    "        for edge in self.edges:\n",
    "            neighbours[edge.start].add((edge.end, edge.cost))\n",
    "\n",
    "        return neighbours\n",
    "\n",
    "    def dijkstra(self, source, dest):\n",
    "        assert source in self.vertices, 'Such source node doesn\\'t exist'\n",
    "        distances = {vertex: inf for vertex in self.vertices}\n",
    "        previous_vertices = {\n",
    "            vertex: None for vertex in self.vertices\n",
    "        }\n",
    "        distances[source] = 0\n",
    "        vertices = self.vertices.copy()\n",
    "\n",
    "        while vertices:\n",
    "            current_vertex = min(\n",
    "                vertices, key=lambda vertex: distances[vertex])\n",
    "            vertices.remove(current_vertex)\n",
    "            if distances[current_vertex] == inf:\n",
    "                break\n",
    "            for neighbour, cost in self.neighbours[current_vertex]:\n",
    "                alternative_route = distances[current_vertex] + cost\n",
    "                if alternative_route < distances[neighbour]:\n",
    "                    distances[neighbour] = alternative_route\n",
    "                    previous_vertices[neighbour] = current_vertex\n",
    "\n",
    "        path, current_vertex = deque(), dest\n",
    "        while previous_vertices[current_vertex] is not None:\n",
    "            path.appendleft(current_vertex)\n",
    "            current_vertex = previous_vertices[current_vertex]\n",
    "        if path:\n",
    "            path.appendleft(current_vertex)\n",
    "        return distances[dest]\n",
    "\n",
    "\n",
    "graph = Graph([\n",
    "    (\"a\", \"b\", 7),  (\"a\", \"c\", 9),  (\"a\", \"f\", 14), (\"b\", \"c\", 10),\n",
    "    (\"b\", \"d\", 15), (\"c\", \"d\", 11), (\"c\", \"f\", 2),  (\"d\", \"e\", 6),\n",
    "    (\"e\", \"f\", 9)])\n",
    "\n",
    "print(graph.dijkstra(\"a\", \"e\"))"
   ]
  },
  {
   "cell_type": "code",
   "execution_count": 24,
   "metadata": {},
   "outputs": [],
   "source": [
    "g = Graph([(1,80,982)])\n",
    "\n",
    "with open('dijkstraData.txt') as fp:\n",
    "    for line in fp:\n",
    "        output = line.split()\n",
    "        node = int(output[0])\n",
    "        \n",
    "        for data in output[1:]:\n",
    "            bunch =  data.split(',')\n",
    "            # print('Adding edge from %d to %d with weight %d' % (node,int(bunch[0]),int(bunch[1])))\n",
    "            g.add_edge(node,int(bunch[0]),int(bunch[1]))     "
   ]
  },
  {
   "cell_type": "code",
   "execution_count": 27,
   "metadata": {},
   "outputs": [
    {
     "name": "stdout",
     "output_type": "stream",
     "text": [
      "2599\n",
      "2610\n",
      "2947\n",
      "2052\n",
      "2367\n",
      "2399\n",
      "2029\n",
      "2442\n",
      "2505\n",
      "3068\n"
     ]
    }
   ],
   "source": [
    "print(g.dijkstra(1, 7))\n",
    "print(g.dijkstra(1, 37))\n",
    "print(g.dijkstra(1, 59))\n",
    "print(g.dijkstra(1, 82))\n",
    "print(g.dijkstra(1, 99))\n",
    "print(g.dijkstra(1, 115))\n",
    "print(g.dijkstra(1, 133))\n",
    "print(g.dijkstra(1, 165))\n",
    "print(g.dijkstra(1, 188))\n",
    "print(g.dijkstra(1, 197))\n"
   ]
  },
  {
   "cell_type": "code",
   "execution_count": null,
   "metadata": {},
   "outputs": [],
   "source": []
  }
 ],
 "metadata": {
  "kernelspec": {
   "display_name": "Python 3",
   "language": "python",
   "name": "python3"
  },
  "language_info": {
   "codemirror_mode": {
    "name": "ipython",
    "version": 3
   },
   "file_extension": ".py",
   "mimetype": "text/x-python",
   "name": "python",
   "nbconvert_exporter": "python",
   "pygments_lexer": "ipython3",
   "version": "3.6.5"
  }
 },
 "nbformat": 4,
 "nbformat_minor": 2
}
