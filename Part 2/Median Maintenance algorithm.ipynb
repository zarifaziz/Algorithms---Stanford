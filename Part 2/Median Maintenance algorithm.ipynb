{
 "cells": [
  {
   "cell_type": "code",
   "execution_count": 1,
   "metadata": {},
   "outputs": [],
   "source": [
    "import heapq"
   ]
  },
  {
   "cell_type": "code",
   "execution_count": 2,
   "metadata": {},
   "outputs": [],
   "source": [
    "class Heap(object):\n",
    "    def __init__(self, initial=None, key=lambda x: x):\n",
    "        self.key = key\n",
    "        if initial:\n",
    "            self._data = [(key(item), item) for item in initial]\n",
    "            heapq.heapify(self._data)\n",
    "        else:\n",
    "            self._data = []\n",
    "\n",
    "    def push(self, item):\n",
    "        heapq.heappush(self._data, (self.key(item), item))\n",
    "\n",
    "    def pop(self):\n",
    "        return heapq.heappop(self._data)[1]\n",
    "\n",
    "    def peek(self):\n",
    "        return self._data[0][1]\n",
    "\n",
    "    def __len__(self):\n",
    "        return len(self._data)"
   ]
  },
  {
   "cell_type": "code",
   "execution_count": 3,
   "metadata": {},
   "outputs": [
    {
     "name": "stdout",
     "output_type": "stream",
     "text": [
      "1213\n"
     ]
    }
   ],
   "source": [
    "class MedianMaintainer:\n",
    "    def __init__(self, input_file=None, input_array=None):\n",
    "        self._heap_low = Heap(key=lambda x: -x)\n",
    "        self._heap_high = Heap()\n",
    "        self._median_sum = 0\n",
    "        self.input_file = input_file\n",
    "        self.input_array = input_array\n",
    "\n",
    "    def sum_medians(self):\n",
    "        if self.input_file is not None:\n",
    "            with open(self.input_file) as file:\n",
    "                for number in file.read().splitlines():\n",
    "                    self._add_number(int(number))\n",
    "        elif self.input_array is not None:\n",
    "            for number in self.input_array:\n",
    "                self._add_number(int(number))\n",
    "        return self._median_sum % (len(self._heap_high) + len(self._heap_low))\n",
    "\n",
    "    def _add_number(self, num):\n",
    "        if not self._heap_low:\n",
    "            self._heap_low.push(num)\n",
    "            self._median_sum += num\n",
    "            return\n",
    "        if num <= self._heap_low.peek():\n",
    "            self._heap_low.push(num)\n",
    "        else:\n",
    "            self._heap_high.push(num)\n",
    "        if len(self._heap_low) - len(self._heap_high) > 1:\n",
    "            self._heap_high.push(self._heap_low.pop())\n",
    "        elif len(self._heap_high) - len(self._heap_low) > 1:\n",
    "            self._heap_low.push(self._heap_high.pop())\n",
    "        self._median_sum += self._heap_low.peek() if len(self._heap_low) >= len(\n",
    "            self._heap_high) else self._heap_high.peek()\n",
    "\n",
    "if __name__ == \"__main__\":\n",
    "    median_maintainer = MedianMaintainer(input_file='Median.txt')\n",
    "    median_sum = median_maintainer.sum_medians()\n",
    "    print(median_sum)"
   ]
  },
  {
   "cell_type": "code",
   "execution_count": null,
   "metadata": {},
   "outputs": [],
   "source": []
  }
 ],
 "metadata": {
  "kernelspec": {
   "display_name": "Python 3",
   "language": "python",
   "name": "python3"
  },
  "language_info": {
   "codemirror_mode": {
    "name": "ipython",
    "version": 3
   },
   "file_extension": ".py",
   "mimetype": "text/x-python",
   "name": "python",
   "nbconvert_exporter": "python",
   "pygments_lexer": "ipython3",
   "version": "3.6.5"
  }
 },
 "nbformat": 4,
 "nbformat_minor": 2
}
