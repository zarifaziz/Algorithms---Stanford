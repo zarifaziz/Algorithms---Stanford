{
 "cells": [
  {
   "cell_type": "code",
   "execution_count": 1,
   "metadata": {},
   "outputs": [
    {
     "name": "stdout",
     "output_type": "stream",
     "text": [
      "hello\n"
     ]
    }
   ],
   "source": [
    "import sys, threading\n",
    "sys.setrecursionlimit(800000)\n",
    "threading.stack_size(67108864)\n",
    "\n",
    "def main():\n",
    "    \"\"\"\n",
    "    Code here\n",
    "    \"\"\"\n",
    "    print('hello')\n",
    "\n",
    "\n",
    "thread = threading.Thread(target=main)\n",
    "thread.start()\n"
   ]
  },
  {
   "cell_type": "markdown",
   "metadata": {},
   "source": [
    "- Build a DFS Algorithm\n",
    "- Figure out whether to use stacks or queues\n",
    "- Read Kosaraju's Algorithm\n",
    "- Try implementing it"
   ]
  },
  {
   "cell_type": "code",
   "execution_count": 4,
   "metadata": {},
   "outputs": [
    {
     "name": "stdout",
     "output_type": "stream",
     "text": [
      "Collecting networkx\n",
      "Collecting decorator>=4.3.0 (from networkx)\n",
      "  Using cached https://files.pythonhosted.org/packages/f1/cd/7c8240007e9716b14679bc217a1baefa4432aa30394f7e2ec40a52b1a708/decorator-4.3.2-py2.py3-none-any.whl\n",
      "Installing collected packages: decorator, networkx\n",
      "Successfully installed decorator-4.3.2 networkx-2.2\n"
     ]
    }
   ],
   "source": [
    "# Install a pip package in the current Jupyter kernel\n",
    "import sys\n",
    "!{sys.executable} -m pip install networkx"
   ]
  },
  {
   "cell_type": "code",
   "execution_count": 6,
   "metadata": {},
   "outputs": [],
   "source": [
    "import networkx as nx"
   ]
  },
  {
   "cell_type": "code",
   "execution_count": 8,
   "metadata": {},
   "outputs": [],
   "source": [
    "class Stack(object):\n",
    "    def __init__(self):\n",
    "        self.items = []\n",
    "        \n",
    "    def isEmpty(self):\n",
    "        return self.items ==[]\n",
    "    \n",
    "    def push(self, item):\n",
    "        self.items.append(item)\n",
    "        \n",
    "    def pop(self):\n",
    "        return self.items.pop()\n",
    "    \n",
    "    def peek(self):\n",
    "        return self.items[len(self.items)-1]\n",
    "    \n",
    "    def size(self):\n",
    "        return len(self.items)"
   ]
  },
  {
   "cell_type": "code",
   "execution_count": 9,
   "metadata": {},
   "outputs": [],
   "source": [
    "stack = Stack()\n",
    "    "
   ]
  },
  {
   "cell_type": "code",
   "execution_count": 10,
   "metadata": {},
   "outputs": [],
   "source": [
    "G = nx.Graph()"
   ]
  },
  {
   "cell_type": "code",
   "execution_count": 24,
   "metadata": {},
   "outputs": [],
   "source": [
    "with open('test_SCC.txt',\"r\") as f:\n",
    "    edges = [map(int,line.split()) for line in f]"
   ]
  },
  {
   "cell_type": "code",
   "execution_count": 25,
   "metadata": {},
   "outputs": [
    {
     "data": {
      "text/plain": [
       "[1, 2, 3, 4, 5, 6, 7, 8, 9]"
      ]
     },
     "execution_count": 25,
     "metadata": {},
     "output_type": "execute_result"
    }
   ],
   "source": [
    "list(set([v for edge in edges for v in edge]))"
   ]
  },
  {
   "cell_type": "code",
   "execution_count": 17,
   "metadata": {},
   "outputs": [
    {
     "name": "stdout",
     "output_type": "stream",
     "text": [
      "A\n",
      "B\n",
      "C\n",
      "D\n"
     ]
    }
   ],
   "source": [
    "for ch in map(chr,[65,66,67,68]):\n",
    "    print(ch)"
   ]
  },
  {
   "cell_type": "markdown",
   "metadata": {},
   "source": [
    "## Final solution below\n",
    "\n",
    "#### - This guy is too smart and makes unreadable code"
   ]
  },
  {
   "cell_type": "code",
   "execution_count": 2,
   "metadata": {},
   "outputs": [
    {
     "name": "stdout",
     "output_type": "stream",
     "text": [
      "[434821, 968, 459, 313, 211]\n",
      "[434821, 968, 459, 313, 211]\n"
     ]
    }
   ],
   "source": [
    "class SccFinder(object):\n",
    "    def __init__(self, input_file):\n",
    "        self.scc_list = []\n",
    "        with open(input_file) as file:\n",
    "            self.finish_order = []\n",
    "            # initialising graph as a dictionary\n",
    "            self._graph = {}\n",
    "            for line in file:\n",
    "                (from_v, to_v) = tuple(number for number in line.split())\n",
    "                self._add_edge_to_graph(int(from_v), int(to_v))\n",
    "\n",
    "    def _add_edge_to_graph(self, from_v, to_v):\n",
    "        # if nodes exist, we're appending the values to the keys.\n",
    "        # if node didn't exist, we're setting the value to the key.\n",
    "        if from_v in self._graph:\n",
    "            self._graph[from_v].append(to_v)\n",
    "        else:\n",
    "            self._graph[from_v] = [to_v]\n",
    "        if to_v in self._graph:\n",
    "            self._graph[to_v].append(-from_v)\n",
    "        else:\n",
    "            self._graph[to_v] = [-from_v]\n",
    "\n",
    "    def compute_finish_times(self):\n",
    "        visited_nodes, finished_nodes = set(), set()\n",
    "        # going through all the vertices in the graph\n",
    "        for vertex in self._graph.keys():\n",
    "            # if the vertex is in visited_nodes, continue with the next iteration of the loop\n",
    "            if vertex in visited_nodes:\n",
    "                continue\n",
    "            # stack the vertex. Last in First Out\n",
    "            nodes_stack = [vertex]\n",
    "            while nodes_stack:\n",
    "                node = nodes_stack.pop()\n",
    "                if node not in visited_nodes:\n",
    "                    visited_nodes.add(node)\n",
    "                    nodes_stack.append(node)\n",
    "                    neighbors = (-edge for edge in self._graph[node] if edge < 0)\n",
    "                    for neighbor in neighbors:\n",
    "                        if neighbor not in visited_nodes:\n",
    "                            nodes_stack.append(neighbor)\n",
    "                else:\n",
    "                    if node not in finished_nodes:\n",
    "                        self.finish_order.append(node)\n",
    "                        finished_nodes.add(node)\n",
    "\n",
    "    def compute_sccs(self):\n",
    "        visited_nodes = set()\n",
    "        assert (len(self.finish_order) == len(self._graph))\n",
    "        for i in reversed(self.finish_order):\n",
    "            if i in visited_nodes:\n",
    "                continue\n",
    "            nodes_stack = [i]\n",
    "            size = 0\n",
    "            while nodes_stack:\n",
    "                node = nodes_stack.pop()\n",
    "                if node not in visited_nodes:\n",
    "                    size += 1\n",
    "                    visited_nodes.add(node)\n",
    "                    nodes_stack.append(node)\n",
    "                    neighbors = (edge for edge in self._graph[node] if edge > 0)\n",
    "                    for neighbor in neighbors:\n",
    "                        if neighbor not in visited_nodes:\n",
    "                            nodes_stack.append(neighbor)\n",
    "            self.scc_list.append(size)\n",
    "        self.scc_list.sort(reverse=True)\n",
    "        print(self.scc_list[:5])\n",
    "\n",
    "if __name__ == \"__main__\":\n",
    "    scc_finder = SccFinder(\"SCC.txt\")\n",
    "    scc_finder.compute_finish_times()\n",
    "    scc_finder.compute_sccs()\n",
    "    expected_sccs = [434821, 968, 459, 313, 211]\n",
    "    print(scc_finder.scc_list[:5])\n"
   ]
  },
  {
   "cell_type": "code",
   "execution_count": 3,
   "metadata": {},
   "outputs": [
    {
     "data": {
      "text/plain": [
       "set()"
      ]
     },
     "execution_count": 3,
     "metadata": {},
     "output_type": "execute_result"
    }
   ],
   "source": [
    "hello = set()\n",
    "hello"
   ]
  },
  {
   "cell_type": "code",
   "execution_count": null,
   "metadata": {},
   "outputs": [],
   "source": []
  }
 ],
 "metadata": {
  "kernelspec": {
   "display_name": "Python 3",
   "language": "python",
   "name": "python3"
  },
  "language_info": {
   "codemirror_mode": {
    "name": "ipython",
    "version": 3
   },
   "file_extension": ".py",
   "mimetype": "text/x-python",
   "name": "python",
   "nbconvert_exporter": "python",
   "pygments_lexer": "ipython3",
   "version": "3.6.5"
  }
 },
 "nbformat": 4,
 "nbformat_minor": 2
}
